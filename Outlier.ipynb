{
 "cells": [
  {
   "cell_type": "markdown",
   "id": "d1332770-5380-4b47-ac01-f87a9911b85d",
   "metadata": {},
   "source": [
    "# Outlier Detection\n",
    "## Sample Data\n",
    "We'll create a sample dataset with a numerical feature, \"Height\":"
   ]
  },
  {
   "cell_type": "code",
   "execution_count": 1,
   "id": "ae72c6b5-8361-4810-a992-a0e447a1224f",
   "metadata": {},
   "outputs": [
    {
     "name": "stdout",
     "output_type": "stream",
     "text": [
      "Original Data:\n",
      "    Height\n",
      "0      150\n",
      "1      160\n",
      "2      165\n",
      "3      170\n",
      "4      175\n",
      "5      180\n",
      "6      185\n",
      "7      190\n",
      "8      195\n",
      "9      200\n",
      "10     250\n",
      "11     300\n"
     ]
    }
   ],
   "source": [
    "import pandas as pd\n",
    "import numpy as np\n",
    "\n",
    "# Sample Data with potential outliers\n",
    "data = pd.DataFrame({\n",
    "    'Height': [150, 160, 165, 170, 175, 180, 185, 190, 195, 200, 250, 300]\n",
    "})\n",
    "\n",
    "print(\"Original Data:\")\n",
    "print(data)"
   ]
  },
  {
   "cell_type": "markdown",
   "id": "2090f055-06bf-4204-bb72-326b1e2151da",
   "metadata": {},
   "source": [
    "## Detecting and Removing Outliers using Z-score\n",
    "The Z-score method detects outliers by measuring how many standard deviations away a data point is from the mean. Typically, a threshold of 3 or -3 is used."
   ]
  },
  {
   "cell_type": "code",
   "execution_count": 2,
   "id": "7a2cdf24-bb5a-4c2f-ae7d-f0f89f4e657b",
   "metadata": {},
   "outputs": [],
   "source": [
    "from scipy.stats import zscore"
   ]
  },
  {
   "cell_type": "code",
   "execution_count": 3,
   "id": "5f6393b1-065b-4cda-becc-93196a607dfd",
   "metadata": {},
   "outputs": [],
   "source": [
    "data['Z-Score'] = zscore(data['Height'])"
   ]
  },
  {
   "cell_type": "code",
   "execution_count": 4,
   "id": "9049bb3b-f8c4-4968-8611-3217903a9599",
   "metadata": {},
   "outputs": [
    {
     "data": {
      "text/html": [
       "<div>\n",
       "<style scoped>\n",
       "    .dataframe tbody tr th:only-of-type {\n",
       "        vertical-align: middle;\n",
       "    }\n",
       "\n",
       "    .dataframe tbody tr th {\n",
       "        vertical-align: top;\n",
       "    }\n",
       "\n",
       "    .dataframe thead th {\n",
       "        text-align: right;\n",
       "    }\n",
       "</style>\n",
       "<table border=\"1\" class=\"dataframe\">\n",
       "  <thead>\n",
       "    <tr style=\"text-align: right;\">\n",
       "      <th></th>\n",
       "      <th>Height</th>\n",
       "      <th>Z-Score</th>\n",
       "    </tr>\n",
       "  </thead>\n",
       "  <tbody>\n",
       "    <tr>\n",
       "      <th>0</th>\n",
       "      <td>150</td>\n",
       "      <td>-1.073135</td>\n",
       "    </tr>\n",
       "    <tr>\n",
       "      <th>1</th>\n",
       "      <td>160</td>\n",
       "      <td>-0.825488</td>\n",
       "    </tr>\n",
       "    <tr>\n",
       "      <th>2</th>\n",
       "      <td>165</td>\n",
       "      <td>-0.701665</td>\n",
       "    </tr>\n",
       "    <tr>\n",
       "      <th>3</th>\n",
       "      <td>170</td>\n",
       "      <td>-0.577842</td>\n",
       "    </tr>\n",
       "    <tr>\n",
       "      <th>4</th>\n",
       "      <td>175</td>\n",
       "      <td>-0.454019</td>\n",
       "    </tr>\n",
       "    <tr>\n",
       "      <th>5</th>\n",
       "      <td>180</td>\n",
       "      <td>-0.330195</td>\n",
       "    </tr>\n",
       "    <tr>\n",
       "      <th>6</th>\n",
       "      <td>185</td>\n",
       "      <td>-0.206372</td>\n",
       "    </tr>\n",
       "    <tr>\n",
       "      <th>7</th>\n",
       "      <td>190</td>\n",
       "      <td>-0.082549</td>\n",
       "    </tr>\n",
       "    <tr>\n",
       "      <th>8</th>\n",
       "      <td>195</td>\n",
       "      <td>0.041274</td>\n",
       "    </tr>\n",
       "    <tr>\n",
       "      <th>9</th>\n",
       "      <td>200</td>\n",
       "      <td>0.165098</td>\n",
       "    </tr>\n",
       "    <tr>\n",
       "      <th>10</th>\n",
       "      <td>250</td>\n",
       "      <td>1.403330</td>\n",
       "    </tr>\n",
       "    <tr>\n",
       "      <th>11</th>\n",
       "      <td>300</td>\n",
       "      <td>2.641563</td>\n",
       "    </tr>\n",
       "  </tbody>\n",
       "</table>\n",
       "</div>"
      ],
      "text/plain": [
       "    Height   Z-Score\n",
       "0      150 -1.073135\n",
       "1      160 -0.825488\n",
       "2      165 -0.701665\n",
       "3      170 -0.577842\n",
       "4      175 -0.454019\n",
       "5      180 -0.330195\n",
       "6      185 -0.206372\n",
       "7      190 -0.082549\n",
       "8      195  0.041274\n",
       "9      200  0.165098\n",
       "10     250  1.403330\n",
       "11     300  2.641563"
      ]
     },
     "execution_count": 4,
     "metadata": {},
     "output_type": "execute_result"
    }
   ],
   "source": [
    "data"
   ]
  },
  {
   "cell_type": "code",
   "execution_count": 5,
   "id": "cdc37d46-ea2f-4c7e-938d-4a3a92b01a16",
   "metadata": {},
   "outputs": [],
   "source": [
    "threshold = 2\n",
    "outliers_zscore = data[(data['Z-Score']>threshold) | (data['Z-Score'] < -threshold)]"
   ]
  },
  {
   "cell_type": "code",
   "execution_count": 6,
   "id": "5bd1cfa3-8fad-481a-94de-f875b4955a70",
   "metadata": {},
   "outputs": [
    {
     "data": {
      "text/html": [
       "<div>\n",
       "<style scoped>\n",
       "    .dataframe tbody tr th:only-of-type {\n",
       "        vertical-align: middle;\n",
       "    }\n",
       "\n",
       "    .dataframe tbody tr th {\n",
       "        vertical-align: top;\n",
       "    }\n",
       "\n",
       "    .dataframe thead th {\n",
       "        text-align: right;\n",
       "    }\n",
       "</style>\n",
       "<table border=\"1\" class=\"dataframe\">\n",
       "  <thead>\n",
       "    <tr style=\"text-align: right;\">\n",
       "      <th></th>\n",
       "      <th>Height</th>\n",
       "      <th>Z-Score</th>\n",
       "    </tr>\n",
       "  </thead>\n",
       "  <tbody>\n",
       "    <tr>\n",
       "      <th>11</th>\n",
       "      <td>300</td>\n",
       "      <td>2.641563</td>\n",
       "    </tr>\n",
       "  </tbody>\n",
       "</table>\n",
       "</div>"
      ],
      "text/plain": [
       "    Height   Z-Score\n",
       "11     300  2.641563"
      ]
     },
     "execution_count": 6,
     "metadata": {},
     "output_type": "execute_result"
    }
   ],
   "source": [
    "outliers_zscore"
   ]
  },
  {
   "cell_type": "code",
   "execution_count": 7,
   "id": "bb348dcd-a9d1-4a26-adf8-4f2829f3afd2",
   "metadata": {},
   "outputs": [],
   "source": [
    "data_clean_zscore = data[(data['Z-Score']<=threshold) & (data['Z-Score'] >= -threshold)]"
   ]
  },
  {
   "cell_type": "code",
   "execution_count": 8,
   "id": "253ce62d-b30f-4a2f-add9-e7849ff89c5a",
   "metadata": {},
   "outputs": [
    {
     "data": {
      "text/html": [
       "<div>\n",
       "<style scoped>\n",
       "    .dataframe tbody tr th:only-of-type {\n",
       "        vertical-align: middle;\n",
       "    }\n",
       "\n",
       "    .dataframe tbody tr th {\n",
       "        vertical-align: top;\n",
       "    }\n",
       "\n",
       "    .dataframe thead th {\n",
       "        text-align: right;\n",
       "    }\n",
       "</style>\n",
       "<table border=\"1\" class=\"dataframe\">\n",
       "  <thead>\n",
       "    <tr style=\"text-align: right;\">\n",
       "      <th></th>\n",
       "      <th>Height</th>\n",
       "      <th>Z-Score</th>\n",
       "    </tr>\n",
       "  </thead>\n",
       "  <tbody>\n",
       "    <tr>\n",
       "      <th>0</th>\n",
       "      <td>150</td>\n",
       "      <td>-1.073135</td>\n",
       "    </tr>\n",
       "    <tr>\n",
       "      <th>1</th>\n",
       "      <td>160</td>\n",
       "      <td>-0.825488</td>\n",
       "    </tr>\n",
       "    <tr>\n",
       "      <th>2</th>\n",
       "      <td>165</td>\n",
       "      <td>-0.701665</td>\n",
       "    </tr>\n",
       "    <tr>\n",
       "      <th>3</th>\n",
       "      <td>170</td>\n",
       "      <td>-0.577842</td>\n",
       "    </tr>\n",
       "    <tr>\n",
       "      <th>4</th>\n",
       "      <td>175</td>\n",
       "      <td>-0.454019</td>\n",
       "    </tr>\n",
       "    <tr>\n",
       "      <th>5</th>\n",
       "      <td>180</td>\n",
       "      <td>-0.330195</td>\n",
       "    </tr>\n",
       "    <tr>\n",
       "      <th>6</th>\n",
       "      <td>185</td>\n",
       "      <td>-0.206372</td>\n",
       "    </tr>\n",
       "    <tr>\n",
       "      <th>7</th>\n",
       "      <td>190</td>\n",
       "      <td>-0.082549</td>\n",
       "    </tr>\n",
       "    <tr>\n",
       "      <th>8</th>\n",
       "      <td>195</td>\n",
       "      <td>0.041274</td>\n",
       "    </tr>\n",
       "    <tr>\n",
       "      <th>9</th>\n",
       "      <td>200</td>\n",
       "      <td>0.165098</td>\n",
       "    </tr>\n",
       "    <tr>\n",
       "      <th>10</th>\n",
       "      <td>250</td>\n",
       "      <td>1.403330</td>\n",
       "    </tr>\n",
       "  </tbody>\n",
       "</table>\n",
       "</div>"
      ],
      "text/plain": [
       "    Height   Z-Score\n",
       "0      150 -1.073135\n",
       "1      160 -0.825488\n",
       "2      165 -0.701665\n",
       "3      170 -0.577842\n",
       "4      175 -0.454019\n",
       "5      180 -0.330195\n",
       "6      185 -0.206372\n",
       "7      190 -0.082549\n",
       "8      195  0.041274\n",
       "9      200  0.165098\n",
       "10     250  1.403330"
      ]
     },
     "execution_count": 8,
     "metadata": {},
     "output_type": "execute_result"
    }
   ],
   "source": [
    "data_clean_zscore"
   ]
  },
  {
   "cell_type": "code",
   "execution_count": 9,
   "id": "12fcd9c1-e629-4f9c-b2e6-3cc80138aa57",
   "metadata": {},
   "outputs": [],
   "source": [
    "data_clean_zscore = data_clean_zscore.drop(columns=['Z-Score'])"
   ]
  },
  {
   "cell_type": "code",
   "execution_count": null,
   "id": "8a7a4640-de24-4972-9df4-4882121ee314",
   "metadata": {},
   "outputs": [],
   "source": []
  },
  {
   "cell_type": "markdown",
   "id": "c027f62e-fa62-480b-b555-d79822276af7",
   "metadata": {},
   "source": [
    "## Detecting and Removing Outliers using IQR\n",
    "The IQR method detects outliers by identifying data points that fall below Q1 - 1.5 * IQR or above Q3 + 1.5 * IQR, where Q1 is the 25th percentile and Q3 is the 75th percentile."
   ]
  },
  {
   "cell_type": "code",
   "execution_count": 12,
   "id": "1d5da2c6-6e09-4a30-872d-2e2a7a784b76",
   "metadata": {},
   "outputs": [],
   "source": [
    "Q1 = data['Height'].quantile(0.25)\n",
    "Q3 = data['Height'].quantile(0.75)\n",
    "IQR = Q3 - Q1"
   ]
  },
  {
   "cell_type": "code",
   "execution_count": 25,
   "id": "dab0e731-fbe0-43fc-aefb-5baa6be224be",
   "metadata": {},
   "outputs": [],
   "source": [
    "lower_bound = Q1 - 1.5*IQR\n",
    "upper_bound = Q3 + 1.5*IQR"
   ]
  },
  {
   "cell_type": "code",
   "execution_count": 26,
   "id": "bf4a22da-fd55-49f2-a7a1-816e1a48c0bb",
   "metadata": {},
   "outputs": [],
   "source": [
    "# Calculate Q1 (25th percentile) and Q3 (75th percentile)\n",
    "Q1 = data['Height'].quantile(0.25)\n",
    "Q3 = data['Height'].quantile(0.75)\n",
    "IQR = Q3 - Q1\n",
    "\n",
    "# Define the lower and upper bound for outliers\n",
    "lower_bound = Q1 - 1.5 * IQR\n",
    "upper_bound = Q3 + 1.5 * IQR\n",
    "\n",
    "# Identify outliers\n",
    "outliers_iqr = data[(data['Height'] < lower_bound) | (data['Height'] > upper_bound)]"
   ]
  },
  {
   "cell_type": "code",
   "execution_count": 27,
   "id": "42a1f06b-14f3-4e31-a294-d4d303235093",
   "metadata": {},
   "outputs": [
    {
     "data": {
      "text/html": [
       "<div>\n",
       "<style scoped>\n",
       "    .dataframe tbody tr th:only-of-type {\n",
       "        vertical-align: middle;\n",
       "    }\n",
       "\n",
       "    .dataframe tbody tr th {\n",
       "        vertical-align: top;\n",
       "    }\n",
       "\n",
       "    .dataframe thead th {\n",
       "        text-align: right;\n",
       "    }\n",
       "</style>\n",
       "<table border=\"1\" class=\"dataframe\">\n",
       "  <thead>\n",
       "    <tr style=\"text-align: right;\">\n",
       "      <th></th>\n",
       "      <th>Height</th>\n",
       "      <th>Z-Score</th>\n",
       "    </tr>\n",
       "  </thead>\n",
       "  <tbody>\n",
       "    <tr>\n",
       "      <th>10</th>\n",
       "      <td>250</td>\n",
       "      <td>1.403330</td>\n",
       "    </tr>\n",
       "    <tr>\n",
       "      <th>11</th>\n",
       "      <td>300</td>\n",
       "      <td>2.641563</td>\n",
       "    </tr>\n",
       "  </tbody>\n",
       "</table>\n",
       "</div>"
      ],
      "text/plain": [
       "    Height   Z-Score\n",
       "10     250  1.403330\n",
       "11     300  2.641563"
      ]
     },
     "execution_count": 27,
     "metadata": {},
     "output_type": "execute_result"
    }
   ],
   "source": [
    "outliers_iqr"
   ]
  },
  {
   "cell_type": "code",
   "execution_count": 28,
   "id": "597e91a2-f6f1-446b-9a72-6c1d1113b798",
   "metadata": {},
   "outputs": [
    {
     "name": "stdout",
     "output_type": "stream",
     "text": [
      "\n",
      "Data after removing outliers using IQR:\n",
      "   Height   Z-Score\n",
      "0     150 -1.073135\n",
      "1     160 -0.825488\n",
      "2     165 -0.701665\n",
      "3     170 -0.577842\n",
      "4     175 -0.454019\n",
      "5     180 -0.330195\n",
      "6     185 -0.206372\n",
      "7     190 -0.082549\n",
      "8     195  0.041274\n",
      "9     200  0.165098\n"
     ]
    }
   ],
   "source": [
    "# Remove outliers\n",
    "data_clean_iqr = data[(data['Height'] >= lower_bound) & (data['Height'] <= upper_bound)]\n",
    "\n",
    "print(\"\\nData after removing outliers using IQR:\")\n",
    "print(data_clean_iqr)"
   ]
  },
  {
   "cell_type": "code",
   "execution_count": 13,
   "id": "c90f9169-1908-48c8-938b-f2f971fc6fea",
   "metadata": {},
   "outputs": [
    {
     "name": "stdout",
     "output_type": "stream",
     "text": [
      "\n",
      "Outliers detected using IQR:\n",
      "    Height   Z-Score\n",
      "10     250  1.403330\n",
      "11     300  2.641563\n",
      "\n",
      "Data after removing outliers using IQR:\n",
      "   Height   Z-Score\n",
      "0     150 -1.073135\n",
      "1     160 -0.825488\n",
      "2     165 -0.701665\n",
      "3     170 -0.577842\n",
      "4     175 -0.454019\n",
      "5     180 -0.330195\n",
      "6     185 -0.206372\n",
      "7     190 -0.082549\n",
      "8     195  0.041274\n",
      "9     200  0.165098\n"
     ]
    }
   ],
   "source": [
    "# Calculate Q1 (25th percentile) and Q3 (75th percentile)\n",
    "Q1 = data['Height'].quantile(0.25)\n",
    "Q3 = data['Height'].quantile(0.75)\n",
    "IQR = Q3 - Q1\n",
    "\n",
    "# Define the lower and upper bound for outliers\n",
    "lower_bound = Q1 - 1.5 * IQR\n",
    "upper_bound = Q3 + 1.5 * IQR\n",
    "\n",
    "# Identify outliers\n",
    "outliers_iqr = data[(data['Height'] < lower_bound) | (data['Height'] > upper_bound)]\n",
    "\n",
    "print(\"\\nOutliers detected using IQR:\")\n",
    "print(outliers_iqr)\n",
    "\n",
    "# Remove outliers\n",
    "data_clean_iqr = data[(data['Height'] >= lower_bound) & (data['Height'] <= upper_bound)]\n",
    "\n",
    "print(\"\\nData after removing outliers using IQR:\")\n",
    "print(data_clean_iqr)"
   ]
  }
 ],
 "metadata": {
  "kernelspec": {
   "display_name": "Python 3 (ipykernel)",
   "language": "python",
   "name": "python3"
  },
  "language_info": {
   "codemirror_mode": {
    "name": "ipython",
    "version": 3
   },
   "file_extension": ".py",
   "mimetype": "text/x-python",
   "name": "python",
   "nbconvert_exporter": "python",
   "pygments_lexer": "ipython3",
   "version": "3.12.4"
  }
 },
 "nbformat": 4,
 "nbformat_minor": 5
}
